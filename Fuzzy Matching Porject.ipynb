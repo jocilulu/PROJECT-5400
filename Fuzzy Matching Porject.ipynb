{
 "cells": [
  {
   "cell_type": "markdown",
   "id": "55881350",
   "metadata": {},
   "source": [
    "## Loading packages"
   ]
  },
  {
   "cell_type": "code",
   "execution_count": 1,
   "id": "4130b868",
   "metadata": {},
   "outputs": [
    {
     "name": "stderr",
     "output_type": "stream",
     "text": [
      "/opt/anaconda3/lib/python3.8/site-packages/fuzzywuzzy/fuzz.py:11: UserWarning: Using slow pure-python SequenceMatcher. Install python-Levenshtein to remove this warning\n",
      "  warnings.warn('Using slow pure-python SequenceMatcher. Install python-Levenshtein to remove this warning')\n"
     ]
    }
   ],
   "source": [
    "from project_functions import *"
   ]
  },
  {
   "cell_type": "markdown",
   "id": "6e3db21c",
   "metadata": {},
   "source": [
    "## Read in dataset"
   ]
  },
  {
   "cell_type": "code",
   "execution_count": 2,
   "id": "3ea5c1a0",
   "metadata": {},
   "outputs": [],
   "source": [
    "left = load_data('left_dataset.csv')\n",
    "right = load_data('right_dataset.csv')"
   ]
  },
  {
   "cell_type": "markdown",
   "id": "99099311",
   "metadata": {},
   "source": [
    "## EDA"
   ]
  },
  {
   "cell_type": "markdown",
   "id": "528cba86",
   "metadata": {},
   "source": [
    "### Check the shape of left & right datasets"
   ]
  },
  {
   "cell_type": "code",
   "execution_count": 3,
   "id": "27d8fe16",
   "metadata": {},
   "outputs": [
    {
     "data": {
      "text/plain": [
       "(98509, 7)"
      ]
     },
     "execution_count": 3,
     "metadata": {},
     "output_type": "execute_result"
    }
   ],
   "source": [
    "left.shape"
   ]
  },
  {
   "cell_type": "code",
   "execution_count": 4,
   "id": "d1251142",
   "metadata": {},
   "outputs": [
    {
     "data": {
      "text/plain": [
       "(94585, 7)"
      ]
     },
     "execution_count": 4,
     "metadata": {},
     "output_type": "execute_result"
    }
   ],
   "source": [
    "right.shape"
   ]
  },
  {
   "cell_type": "markdown",
   "id": "c97b11c5",
   "metadata": {},
   "source": [
    "### Check the data type of each column"
   ]
  },
  {
   "cell_type": "code",
   "execution_count": 5,
   "id": "8037bf32",
   "metadata": {},
   "outputs": [
    {
     "data": {
      "text/plain": [
       "business_id      int64\n",
       "name            object\n",
       "address         object\n",
       "city            object\n",
       "state           object\n",
       "zip_code        object\n",
       "size           float64\n",
       "dtype: object"
      ]
     },
     "execution_count": 5,
     "metadata": {},
     "output_type": "execute_result"
    }
   ],
   "source": [
    "left.dtypes"
   ]
  },
  {
   "cell_type": "code",
   "execution_count": 6,
   "id": "3cddb539",
   "metadata": {},
   "outputs": [
    {
     "data": {
      "text/plain": [
       "entity_id        int64\n",
       "name            object\n",
       "address         object\n",
       "city            object\n",
       "state           object\n",
       "postal_code    float64\n",
       "categories      object\n",
       "dtype: object"
      ]
     },
     "execution_count": 6,
     "metadata": {},
     "output_type": "execute_result"
    }
   ],
   "source": [
    "right.dtypes"
   ]
  },
  {
   "cell_type": "markdown",
   "id": "a6c96c61",
   "metadata": {},
   "source": [
    "### View the first 5 rows of the datasets"
   ]
  },
  {
   "cell_type": "code",
   "execution_count": 7,
   "id": "a0fd0c0f",
   "metadata": {
    "scrolled": true
   },
   "outputs": [
    {
     "data": {
      "text/html": [
       "<div>\n",
       "<style scoped>\n",
       "    .dataframe tbody tr th:only-of-type {\n",
       "        vertical-align: middle;\n",
       "    }\n",
       "\n",
       "    .dataframe tbody tr th {\n",
       "        vertical-align: top;\n",
       "    }\n",
       "\n",
       "    .dataframe thead th {\n",
       "        text-align: right;\n",
       "    }\n",
       "</style>\n",
       "<table border=\"1\" class=\"dataframe\">\n",
       "  <thead>\n",
       "    <tr style=\"text-align: right;\">\n",
       "      <th></th>\n",
       "      <th>business_id</th>\n",
       "      <th>name</th>\n",
       "      <th>address</th>\n",
       "      <th>city</th>\n",
       "      <th>state</th>\n",
       "      <th>zip_code</th>\n",
       "      <th>size</th>\n",
       "    </tr>\n",
       "  </thead>\n",
       "  <tbody>\n",
       "    <tr>\n",
       "      <th>0</th>\n",
       "      <td>1</td>\n",
       "      <td>SOURINI PAINTING INC.</td>\n",
       "      <td>12800 44th St N</td>\n",
       "      <td>Clearwater</td>\n",
       "      <td>FL</td>\n",
       "      <td>33762-4726</td>\n",
       "      <td>11.0</td>\n",
       "    </tr>\n",
       "    <tr>\n",
       "      <th>1</th>\n",
       "      <td>2</td>\n",
       "      <td>WOLFF DOLLA BILL LLC</td>\n",
       "      <td>1905 E 19th Ave</td>\n",
       "      <td>Tampa</td>\n",
       "      <td>FL</td>\n",
       "      <td>33605-2700</td>\n",
       "      <td>8.0</td>\n",
       "    </tr>\n",
       "    <tr>\n",
       "      <th>2</th>\n",
       "      <td>3</td>\n",
       "      <td>COMPREHENSIVE SURGERY CENTER, LLC</td>\n",
       "      <td>1988 GULF TO BAY BLVD, Ste 1</td>\n",
       "      <td>CLEARWATER</td>\n",
       "      <td>FL</td>\n",
       "      <td>33765-3550</td>\n",
       "      <td>8.0</td>\n",
       "    </tr>\n",
       "    <tr>\n",
       "      <th>3</th>\n",
       "      <td>4</td>\n",
       "      <td>FRANK &amp; ADAM APPAREL LLC</td>\n",
       "      <td>13640 Wright Cir</td>\n",
       "      <td>Tampa</td>\n",
       "      <td>FL</td>\n",
       "      <td>33626-3030</td>\n",
       "      <td>12.0</td>\n",
       "    </tr>\n",
       "    <tr>\n",
       "      <th>4</th>\n",
       "      <td>5</td>\n",
       "      <td>MORENO PLUS TRANSPORT INC</td>\n",
       "      <td>8608 Huron Court unite 58</td>\n",
       "      <td>Tampa</td>\n",
       "      <td>FL</td>\n",
       "      <td>33614</td>\n",
       "      <td>8.0</td>\n",
       "    </tr>\n",
       "  </tbody>\n",
       "</table>\n",
       "</div>"
      ],
      "text/plain": [
       "   business_id                               name  \\\n",
       "0            1              SOURINI PAINTING INC.   \n",
       "1            2               WOLFF DOLLA BILL LLC   \n",
       "2            3  COMPREHENSIVE SURGERY CENTER, LLC   \n",
       "3            4           FRANK & ADAM APPAREL LLC   \n",
       "4            5          MORENO PLUS TRANSPORT INC   \n",
       "\n",
       "                        address        city state    zip_code  size  \n",
       "0               12800 44th St N  Clearwater    FL  33762-4726  11.0  \n",
       "1               1905 E 19th Ave       Tampa    FL  33605-2700   8.0  \n",
       "2  1988 GULF TO BAY BLVD, Ste 1  CLEARWATER    FL  33765-3550   8.0  \n",
       "3              13640 Wright Cir       Tampa    FL  33626-3030  12.0  \n",
       "4     8608 Huron Court unite 58       Tampa    FL       33614   8.0  "
      ]
     },
     "execution_count": 7,
     "metadata": {},
     "output_type": "execute_result"
    }
   ],
   "source": [
    "left.head()"
   ]
  },
  {
   "cell_type": "code",
   "execution_count": 8,
   "id": "37963752",
   "metadata": {
    "scrolled": true
   },
   "outputs": [
    {
     "data": {
      "text/html": [
       "<div>\n",
       "<style scoped>\n",
       "    .dataframe tbody tr th:only-of-type {\n",
       "        vertical-align: middle;\n",
       "    }\n",
       "\n",
       "    .dataframe tbody tr th {\n",
       "        vertical-align: top;\n",
       "    }\n",
       "\n",
       "    .dataframe thead th {\n",
       "        text-align: right;\n",
       "    }\n",
       "</style>\n",
       "<table border=\"1\" class=\"dataframe\">\n",
       "  <thead>\n",
       "    <tr style=\"text-align: right;\">\n",
       "      <th></th>\n",
       "      <th>entity_id</th>\n",
       "      <th>name</th>\n",
       "      <th>address</th>\n",
       "      <th>city</th>\n",
       "      <th>state</th>\n",
       "      <th>postal_code</th>\n",
       "      <th>categories</th>\n",
       "    </tr>\n",
       "  </thead>\n",
       "  <tbody>\n",
       "    <tr>\n",
       "      <th>0</th>\n",
       "      <td>1</td>\n",
       "      <td>The UPS Store</td>\n",
       "      <td>87 Grasso Plaza Shopping Center</td>\n",
       "      <td>Affton</td>\n",
       "      <td>MO</td>\n",
       "      <td>63123.0</td>\n",
       "      <td>Shipping Centers, Local Services, Notaries, Ma...</td>\n",
       "    </tr>\n",
       "    <tr>\n",
       "      <th>1</th>\n",
       "      <td>2</td>\n",
       "      <td>St Honore Pastries</td>\n",
       "      <td>935 Race St</td>\n",
       "      <td>Philadelphia</td>\n",
       "      <td>PA</td>\n",
       "      <td>19107.0</td>\n",
       "      <td>Restaurants, Food, Bubble Tea, Coffee &amp; Tea, B...</td>\n",
       "    </tr>\n",
       "    <tr>\n",
       "      <th>2</th>\n",
       "      <td>3</td>\n",
       "      <td>Perkiomen Valley Brewery</td>\n",
       "      <td>101 Walnut St</td>\n",
       "      <td>Green Lane</td>\n",
       "      <td>PA</td>\n",
       "      <td>18054.0</td>\n",
       "      <td>Brewpubs, Breweries, Food</td>\n",
       "    </tr>\n",
       "    <tr>\n",
       "      <th>3</th>\n",
       "      <td>4</td>\n",
       "      <td>Sonic Drive-In</td>\n",
       "      <td>615 S Main St</td>\n",
       "      <td>Ashland City</td>\n",
       "      <td>TN</td>\n",
       "      <td>37015.0</td>\n",
       "      <td>Burgers, Fast Food, Sandwiches, Food, Ice Crea...</td>\n",
       "    </tr>\n",
       "    <tr>\n",
       "      <th>4</th>\n",
       "      <td>5</td>\n",
       "      <td>Famous Footwear</td>\n",
       "      <td>8522 Eager Road, Dierbergs Brentwood Point</td>\n",
       "      <td>Brentwood</td>\n",
       "      <td>MO</td>\n",
       "      <td>63144.0</td>\n",
       "      <td>Sporting Goods, Fashion, Shoe Stores, Shopping...</td>\n",
       "    </tr>\n",
       "  </tbody>\n",
       "</table>\n",
       "</div>"
      ],
      "text/plain": [
       "   entity_id                      name  \\\n",
       "0          1             The UPS Store   \n",
       "1          2        St Honore Pastries   \n",
       "2          3  Perkiomen Valley Brewery   \n",
       "3          4            Sonic Drive-In   \n",
       "4          5           Famous Footwear   \n",
       "\n",
       "                                      address          city state  \\\n",
       "0             87 Grasso Plaza Shopping Center        Affton    MO   \n",
       "1                                 935 Race St  Philadelphia    PA   \n",
       "2                               101 Walnut St    Green Lane    PA   \n",
       "3                               615 S Main St  Ashland City    TN   \n",
       "4  8522 Eager Road, Dierbergs Brentwood Point     Brentwood    MO   \n",
       "\n",
       "   postal_code                                         categories  \n",
       "0      63123.0  Shipping Centers, Local Services, Notaries, Ma...  \n",
       "1      19107.0  Restaurants, Food, Bubble Tea, Coffee & Tea, B...  \n",
       "2      18054.0                          Brewpubs, Breweries, Food  \n",
       "3      37015.0  Burgers, Fast Food, Sandwiches, Food, Ice Crea...  \n",
       "4      63144.0  Sporting Goods, Fashion, Shoe Stores, Shopping...  "
      ]
     },
     "execution_count": 8,
     "metadata": {},
     "output_type": "execute_result"
    }
   ],
   "source": [
    "right.head()"
   ]
  },
  {
   "cell_type": "markdown",
   "id": "dfc31d1b",
   "metadata": {},
   "source": [
    "#### Change postal_code to zip_code in right dataset"
   ]
  },
  {
   "cell_type": "code",
   "execution_count": 9,
   "id": "f95e323c",
   "metadata": {},
   "outputs": [],
   "source": [
    "mapping = {right.columns[5]:'zip_code'}\n",
    "right.rename(columns=mapping, inplace = True)"
   ]
  },
  {
   "cell_type": "markdown",
   "id": "1148f36c",
   "metadata": {},
   "source": [
    "### State distribution"
   ]
  },
  {
   "cell_type": "code",
   "execution_count": 10,
   "id": "36e44d7b",
   "metadata": {},
   "outputs": [
    {
     "data": {
      "image/png": "[encoded data removed]",
      "text/plain": [
       "<Figure size 640x480 with 1 Axes>"
      ]
     },
     "metadata": {},
     "output_type": "display_data"
    }
   ],
   "source": [
    "# Pie chart of state distribution in left data\n",
    "state_pie(left, 'Left')"
   ]
  },
  {
   "cell_type": "code",
   "execution_count": 11,
   "id": "f6a71b16",
   "metadata": {},
   "outputs": [
    {
     "data": {
      "image/png": "[encoded data removed]",
      "text/plain": [
       "<Figure size 640x480 with 1 Axes>"
      ]
     },
     "metadata": {},
     "output_type": "display_data"
    }
   ],
   "source": [
    "# Pie chart of state distribution in right data\n",
    "state_pie(right, 'Right')"
   ]
  },
  {
   "cell_type": "markdown",
   "id": "ecad10df",
   "metadata": {},
   "source": [
    "### Top 15 City Distribution"
   ]
  },
  {
   "cell_type": "code",
   "execution_count": 12,
   "id": "0b4d2d62",
   "metadata": {},
   "outputs": [
    {
     "data": {
      "image/png": "[encoded data removed]",
      "text/plain": [
       "<Figure size 640x480 with 1 Axes>"
      ]
     },
     "metadata": {},
     "output_type": "display_data"
    }
   ],
   "source": [
    "# Top 15 city distribution in left data\n",
    "city_bar(left, 'Left')"
   ]
  },
  {
   "cell_type": "code",
   "execution_count": 13,
   "id": "232ba612",
   "metadata": {},
   "outputs": [
    {
     "data": {
      "image/png": "[encoded data removed]",
      "text/plain": [
       "<Figure size 640x480 with 1 Axes>"
      ]
     },
     "metadata": {},
     "output_type": "display_data"
    }
   ],
   "source": [
    "# Top 15 city distribution in right data\n",
    "city_bar(right, 'Right')"
   ]
  },
  {
   "cell_type": "markdown",
   "id": "fadea2ea",
   "metadata": {},
   "source": [
    "### Zip Codes Distribution by States"
   ]
  },
  {
   "cell_type": "code",
   "execution_count": 14,
   "id": "c277c46a",
   "metadata": {},
   "outputs": [
    {
     "data": {
      "image/png": "[encoded data removed]",
      "text/plain": [
       "<Figure size 640x480 with 1 Axes>"
      ]
     },
     "metadata": {},
     "output_type": "display_data"
    }
   ],
   "source": [
    "# Top 5 zip codes in different states in left data\n",
    "zip_bar(left, 'Left')"
   ]
  },
  {
   "cell_type": "code",
   "execution_count": 15,
   "id": "67a5e236",
   "metadata": {},
   "outputs": [
    {
     "data": {
      "image/png": "[encoded data removed]",
      "text/plain": [
       "<Figure size 640x480 with 1 Axes>"
      ]
     },
     "metadata": {},
     "output_type": "display_data"
    }
   ],
   "source": [
    "# Top 5 zip codes in different states in right data\n",
    "zip_bar(right, 'Right')"
   ]
  },
  {
   "cell_type": "markdown",
   "id": "004ba143",
   "metadata": {},
   "source": [
    "## Data Cleaning & Standardization"
   ]
  },
  {
   "cell_type": "code",
   "execution_count": 16,
   "id": "1d838fb1",
   "metadata": {},
   "outputs": [],
   "source": [
    "# remove the column named \"size\" in left dataset and \"categories\" in right dataset\n",
    "left = left.drop(\"size\", axis=1)\n",
    "right = right.drop(\"categories\", axis=1)"
   ]
  },
  {
   "cell_type": "markdown",
   "id": "279c18bf",
   "metadata": {},
   "source": [
    "### State"
   ]
  },
  {
   "cell_type": "code",
   "execution_count": 17,
   "id": "84cafbff",
   "metadata": {
    "scrolled": true
   },
   "outputs": [
    {
     "data": {
      "text/plain": [
       "array(['FL', 'IN', 'MO', 'PA', 'TN'], dtype=object)"
      ]
     },
     "execution_count": 17,
     "metadata": {},
     "output_type": "execute_result"
    }
   ],
   "source": [
    "# state looks fine\n",
    "left['state'].unique()"
   ]
  },
  {
   "cell_type": "code",
   "execution_count": 18,
   "id": "2348b38a",
   "metadata": {},
   "outputs": [
    {
     "data": {
      "text/plain": [
       "array(['MO', 'PA', 'TN', 'FL', 'IN'], dtype=object)"
      ]
     },
     "execution_count": 18,
     "metadata": {},
     "output_type": "execute_result"
    }
   ],
   "source": [
    "right['state'].unique()"
   ]
  },
  {
   "cell_type": "markdown",
   "id": "596bef98",
   "metadata": {},
   "source": [
    "### Zip code"
   ]
  },
  {
   "cell_type": "code",
   "execution_count": 19,
   "id": "60fa4e28",
   "metadata": {},
   "outputs": [],
   "source": [
    "# remove zip code extension and leave only 5 digits, ignore None value\n",
    "left['zip_code'] = left['zip_code'].str[:5]\n"
   ]
  },
  {
   "cell_type": "code",
   "execution_count": 20,
   "id": "33c3c832",
   "metadata": {},
   "outputs": [],
   "source": [
    "right['zip_code'] = right['zip_code'].astype(str).str[:5]"
   ]
  },
  {
   "cell_type": "markdown",
   "id": "74e0eecd",
   "metadata": {},
   "source": [
    "### Name, Address, City"
   ]
  },
  {
   "cell_type": "markdown",
   "id": "1074b855",
   "metadata": {},
   "source": [
    "#### Convert name, address, city to lowercase, remove punctuation and trailing whitespace"
   ]
  },
  {
   "cell_type": "markdown",
   "id": "774e0289",
   "metadata": {},
   "source": [
    "#### Left dataset"
   ]
  },
  {
   "cell_type": "code",
   "execution_count": 21,
   "id": "b034a227",
   "metadata": {},
   "outputs": [
    {
     "name": "stderr",
     "output_type": "stream",
     "text": [
      "/Users/zhangshuxin/APAN5210/final project/project_functions.py:78: FutureWarning: The default value of regex will change from True to False in a future version.\n",
      "  df[column] = df[column].str.replace(r'[^\\w\\s]+', '')\n"
     ]
    }
   ],
   "source": [
    "standarlize(left, 'name')\n",
    "standarlize(left, 'address')\n",
    "standarlize(left, 'city')"
   ]
  },
  {
   "cell_type": "markdown",
   "id": "bdb16586",
   "metadata": {},
   "source": [
    "#### Right dataset"
   ]
  },
  {
   "cell_type": "code",
   "execution_count": 22,
   "id": "5a7a375b",
   "metadata": {},
   "outputs": [],
   "source": [
    "standarlize(right, 'name')\n",
    "standarlize(right, 'address')\n",
    "standarlize(right, 'city')"
   ]
  },
  {
   "cell_type": "markdown",
   "id": "3e159722",
   "metadata": {},
   "source": [
    "#### Replace abbreviations in address to full names"
   ]
  },
  {
   "cell_type": "code",
   "execution_count": 23,
   "id": "36862c76",
   "metadata": {},
   "outputs": [],
   "source": [
    "abb_to_full(left, 'address')"
   ]
  },
  {
   "cell_type": "code",
   "execution_count": 24,
   "id": "20de6c28",
   "metadata": {},
   "outputs": [],
   "source": [
    "abb_to_full(right, 'address')"
   ]
  },
  {
   "cell_type": "markdown",
   "id": "27ce9298",
   "metadata": {},
   "source": [
    "### Examine Data Entry Inconsistencies in City"
   ]
  },
  {
   "cell_type": "markdown",
   "id": "f4b421fa",
   "metadata": {},
   "source": [
    "#### Left dataset"
   ]
  },
  {
   "cell_type": "code",
   "execution_count": 25,
   "id": "9e589d3b",
   "metadata": {},
   "outputs": [
    {
     "data": {
      "text/plain": [
       "array(['ardmore', 'ballwin', 'bensalem', 'brandon', 'bryn mawr',\n",
       "       'clearwater', 'collegeville', 'conshohocken', 'doylestown',\n",
       "       'exton', 'fenton', 'florissant', 'franklin', 'havertown',\n",
       "       'indianapolis', 'king of prussia', 'langhorne', 'lansdale',\n",
       "       'largo', 'levittown', 'lutz', 'malvern', 'media', 'nashville',\n",
       "       'new port richey', 'newtown', 'norristown', 'north wales',\n",
       "       'palm harbor', 'philadelphia', 'phoenixville', 'pottstown',\n",
       "       'saint charles', 'saint louis', 'saint petersburg', 'springfield',\n",
       "       'st louis', 'st petersburg', 'tampa', 'warminster', 'wayne',\n",
       "       'west chester', 'willow grove'], dtype=object)"
      ]
     },
     "execution_count": 25,
     "metadata": {},
     "output_type": "execute_result"
    }
   ],
   "source": [
    "left_city = unique_city(left)\n",
    "left_city"
   ]
  },
  {
   "cell_type": "markdown",
   "id": "bdbce4cd",
   "metadata": {},
   "source": [
    "#### 'saint louis', 'saint petersburg','st louis', 'st petersburg' need to be changed"
   ]
  },
  {
   "cell_type": "markdown",
   "id": "0d50f60e",
   "metadata": {},
   "source": [
    "#### Get the top 10 closest matches to \"st louis\" and \"st petersburg\", get cut matching ratio for replacement"
   ]
  },
  {
   "cell_type": "code",
   "execution_count": 26,
   "id": "7ee3be02",
   "metadata": {},
   "outputs": [
    {
     "data": {
      "text/plain": [
       "[('saint louis', 100),\n",
       " ('st louis', 84),\n",
       " ('florissant', 76),\n",
       " ('saint charles', 67),\n",
       " ('saint petersburg', 52),\n",
       " ('lutz', 40),\n",
       " ('norristown', 38),\n",
       " ('warminster', 38),\n",
       " ('west chester', 35),\n",
       " ('ballwin', 33)]"
      ]
     },
     "execution_count": 26,
     "metadata": {},
     "output_type": "execute_result"
    }
   ],
   "source": [
    "get_top10_match('saint louis', left_city)"
   ]
  },
  {
   "cell_type": "code",
   "execution_count": 27,
   "id": "6e351982",
   "metadata": {},
   "outputs": [
    {
     "data": {
      "text/plain": [
       "[('saint petersburg', 100),\n",
       " ('st petersburg', 90),\n",
       " ('saint charles', 55),\n",
       " ('saint louis', 52),\n",
       " ('florissant', 46),\n",
       " ('west chester', 43),\n",
       " ('ballwin', 35),\n",
       " ('franklin', 33),\n",
       " ('st louis', 33),\n",
       " ('pottstown', 32)]"
      ]
     },
     "execution_count": 27,
     "metadata": {},
     "output_type": "execute_result"
    }
   ],
   "source": [
    "get_top10_match('saint petersburg', left_city)"
   ]
  },
  {
   "cell_type": "markdown",
   "id": "4173723b",
   "metadata": {},
   "source": [
    "#### Set min ratio to 80"
   ]
  },
  {
   "cell_type": "markdown",
   "id": "a5b58769",
   "metadata": {},
   "source": [
    "#### Replace for consistency"
   ]
  },
  {
   "cell_type": "code",
   "execution_count": 28,
   "id": "cbf8a8c0",
   "metadata": {},
   "outputs": [],
   "source": [
    "# use the function we just wrote to replace close matches to \"st. louis\" with \"st. louis\"\n",
    "replace_matches_in_column(df = left, column='city', string_to_match=\"saint louis\", min_ratio = 80)\n",
    "# use the function we just wrote to replace close matches to \"st.petersburg\" with \"st.petersburg\"\n",
    "replace_matches_in_column(df = left, column='city', string_to_match=\"saint petersburg\", min_ratio = 80)"
   ]
  },
  {
   "cell_type": "code",
   "execution_count": 29,
   "id": "5a7ed860",
   "metadata": {},
   "outputs": [
    {
     "data": {
      "text/plain": [
       "array(['ardmore', 'ballwin', 'bensalem', 'brandon', 'bryn mawr',\n",
       "       'clearwater', 'collegeville', 'conshohocken', 'doylestown',\n",
       "       'exton', 'fenton', 'florissant', 'franklin', 'havertown',\n",
       "       'indianapolis', 'king of prussia', 'langhorne', 'lansdale',\n",
       "       'largo', 'levittown', 'lutz', 'malvern', 'media', 'nashville',\n",
       "       'new port richey', 'newtown', 'norristown', 'north wales',\n",
       "       'palm harbor', 'philadelphia', 'phoenixville', 'pottstown',\n",
       "       'saint charles', 'saint louis', 'saint petersburg', 'springfield',\n",
       "       'tampa', 'warminster', 'wayne', 'west chester', 'willow grove'],\n",
       "      dtype=object)"
      ]
     },
     "execution_count": 29,
     "metadata": {},
     "output_type": "execute_result"
    }
   ],
   "source": [
    "# Examine the uniqueness of the cities\n",
    "left_city = unique_city(left)\n",
    "left_city"
   ]
  },
  {
   "cell_type": "markdown",
   "id": "3b7afd17",
   "metadata": {},
   "source": [
    "#### Right dataset"
   ]
  },
  {
   "cell_type": "code",
   "execution_count": 30,
   "id": "856c8f0a",
   "metadata": {},
   "outputs": [
    {
     "data": {
      "text/plain": [
       "array(['abington', 'abington township', 'affton', 'afton', 'aldan',\n",
       "       'ambler', 'andalusia', 'antioch', 'apollo beach', 'apopka',\n",
       "       'ardmore', 'arnold', 'arrington', 'ashland', 'ashland city',\n",
       "       'aston', 'audubon', 'avon', 'avondale', 'bala cynwyd', 'ballwin',\n",
       "       'balm', 'bargersville', 'barnhart', 'barto', 'bayonet point',\n",
       "       'beech grove', 'bel ridge', 'bellair', 'belle meade', 'belleair',\n",
       "       'belleair beach', 'belleair blf', 'belleair bluffs',\n",
       "       'belleair blufs', 'bellefontaine', 'bellefontaine neighbors',\n",
       "       'bellevue', 'belmont hills', 'bensalem', 'bensalem pa',\n",
       "       'bensalem township', 'berkeley', 'berry hill', 'berwyn', 'bethel',\n",
       "       'bethel township', 'birchrunville', 'black jack', 'blooming glen',\n",
       "       'blue bell', 'blvd', 'boone', 'boothwyn', 'boulevard', 'boyertown',\n",
       "       'bradenton', 'bradenton beach', 'brandon', 'breckenridge hills',\n",
       "       'brentwood', 'brentwood  cool springs', 'bridgeport', 'bridgeton',\n",
       "       'bristol', 'bristol twp', 'brookhaven', 'brooksville', 'broomall',\n",
       "       'brownsburg', 'bryn athyn', 'bryn mawr', 'buckingham',\n",
       "       'buckingham township', 'bucks', 'bucks county', 'caln', 'camby',\n",
       "       'cane ridge', 'carmel', 'carrollwood', 'carversville', 'castleton',\n",
       "       'cedars', 'center city philadelphia', 'center square',\n",
       "       'central tampa', 'chadds ford', 'chalfont', 'charlack', 'charles',\n",
       "       'charlotte', 'chattanooga', 'cheltenham', 'cheltenham township',\n",
       "       'cherry hill', 'chester', 'chester heights', 'chester springs',\n",
       "       'chester township', 'chesterbrook', 'chesterfield',\n",
       "       'chestnut hill', 'chicago', 'chichester', 'churchville',\n",
       "       'citrus park', 'claerwater', 'clarksville', 'claymont', 'clayton',\n",
       "       'clearwater', 'clearwater beach', 'clearwater countryside',\n",
       "       'clermont', 'clifton heights', 'coatesville', 'collegeville',\n",
       "       'collingdale', 'colmar', 'concord township', 'concord village',\n",
       "       'concordville', 'conshohocken', 'conshohoeken',\n",
       "       'cornwells heights', 'cornwells hts', 'creamery', 'crestwood',\n",
       "       'creve coeur', 'creve couer', 'croydon', 'crum lynne',\n",
       "       'crystal beach', 'crystal springs', 'cumberland', 'cynwyd',\n",
       "       'dade city', 'danboro', 'danville', 'darby', 'delaware',\n",
       "       'delaware county', 'dellwood', 'delray beach', 'des peres',\n",
       "       'devon', 'devonberwyn', 'donelson', 'douglassville', 'dover',\n",
       "       'downingtown', 'downtown indianapolis', 'doylestown', 'dresher',\n",
       "       'drexel', 'drexel hil', 'drexel hill', 'dublin', 'dunedin',\n",
       "       'dunnellon', 'e norristown', 'eagleville', 'earlington',\n",
       "       'earth city', 'east falls', 'east greenville', 'east lake',\n",
       "       'east lansdowne', 'east nashville', 'east norristown',\n",
       "       'east norriton', 'east tampa', 'eddington', 'eddystone',\n",
       "       'edgemont', 'edgmont', 'edmundson', 'elfers', 'elkins park',\n",
       "       'ellisville', 'elverson', 'erdenheim', 'erdenheim pa', 'essington',\n",
       "       'exton', 'fairland', 'fairless', 'fairless hills',\n",
       "       'fairmount park', 'fairview', 'fairview village', 'falls',\n",
       "       'fallsington', 'feasterville', 'feasterville trev',\n",
       "       'feasterville trevose', 'feastervilletrevose',\n",
       "       'feastervilletrevose pa', 'feastville', 'fenton', 'ferguson',\n",
       "       'festerville', 'fishers', 'florissant', 'flourtown', 'folcroft',\n",
       "       'folsom', 'forest grove', 'forest hills', 'fort washington',\n",
       "       'fortville', 'fountainville', 'fox street', 'franconia',\n",
       "       'franklin', 'frazer', 'frederick', 'frontenac', 'furlong',\n",
       "       'gallatin', 'gardenville', 'garnet valley', 'gibsonton',\n",
       "       'gilbertsville', 'gladwyne', 'glen mills', 'glendale', 'glenmoore',\n",
       "       'glenmore', 'glenn mills', 'glenoldan', 'glenolden', 'glenside',\n",
       "       'goodletsville', 'goodlettsville', 'gradyville',\n",
       "       'greater carrollwood', 'greater northdale', 'green hills',\n",
       "       'green lane', 'green park', 'greenbrier', 'greenfield',\n",
       "       'greenwood', 'gulfport', 'gulph mills', 'gwynedd',\n",
       "       'gwynedd valley', 'hampton', 'hancock', 'harleysville',\n",
       "       'hartsville', 'hatboro', 'hatfield', 'haverford', 'haverton',\n",
       "       'havertown', 'havertown pa', 'hazelwood', 'hendersonville',\n",
       "       'hermitage', 'hernando bch', 'hernando beach', 'high ridge',\n",
       "       'hillsborough', 'hillsborough county', 'hilltown', 'holicong',\n",
       "       'holiday', 'holland', 'holland southampton', 'hollywood', 'holmes',\n",
       "       'honey brook', 'horsham', 'hudson', 'hulmeville',\n",
       "       'huntingdon valley', 'huntingdon valley pa', 'huntington valley',\n",
       "       'imperial', 'indian rocks beach', 'indian shores', 'indiana',\n",
       "       'indianapolis', 'indianapolis city balance', 'indianopolis',\n",
       "       'indianpolis', 'inglewood', 'inpolis', 'ivyland', 'jamison',\n",
       "       'jeffersonville', 'jenkintown', 'jennings', 'joelton', 'johnson',\n",
       "       'kenneth', 'kenneth city', 'kennett square', 'key largo',\n",
       "       'kimberton', 'kimmiswick', 'kimmswick', 'king of prussi',\n",
       "       'king of prussia', 'kingston springs', 'kirklyn', 'kirkwood',\n",
       "       'kng of prusia', 'knoxville', 'kop', 'kulpsville', 'la vergne',\n",
       "       'ladue', 'lafayette hill', 'lahaska', 'lake saint louis',\n",
       "       'lakeland', 'lakewood', 'land o lakes', 'land olakes',\n",
       "       'landolakes', 'landsale', 'landsdale', 'langhorne', 'lansdale',\n",
       "       'lansdowne', 'largo', 'largo walsingham', 'lavergne', 'lawrence',\n",
       "       'lawrence township', 'lebanon', 'lederach', 'lemay', 'lemay ferry',\n",
       "       'lenni', 'lester', 'levittown', 'lima', 'limerick',\n",
       "       'line lexington', 'linfield', 'linwood', 'lionville', 'lithia',\n",
       "       'london grove', 'lower gwynedd', 'lower gwynedd township',\n",
       "       'lower merion', 'lower providence', 'lower southampton',\n",
       "       'lower southampton township', 'lutz', 'lutz fl', 'macdill afb',\n",
       "       'madeira beach', 'madiera beach', 'madison', 'malvern', 'manayunk',\n",
       "       'manchester', 'mango', 'maple glen', 'maplewood', 'marcus hook',\n",
       "       'marlborough', 'martinsville', 'maryland height',\n",
       "       'maryland height mo', 'maryland heights', 'masaryktown',\n",
       "       'mc cordsville', 'mccordsville', 'meadowbrook', 'mechanicsville',\n",
       "       'media', 'mehlville', 'mehville', 'melrose park', 'mendenhall',\n",
       "       'merion', 'merion park', 'merion station', 'middle city west',\n",
       "       'middletown', 'milmont park', 'monrovia', 'mont clare',\n",
       "       'montgomery', 'montgomery township', 'montgomeryville',\n",
       "       'mooresville', 'morrisville', 'morton', 'mount juliet',\n",
       "       'mt  juliet', 'mt airy', 'mt juliet', 'mtjuliet', 'mulberry',\n",
       "       'murfreesboro', 'n redington bch', 'n redngtn bch', 'narberth',\n",
       "       'nashville', 'nashville ap',\n",
       "       'nashvilledavidson metropolitan government balance',\n",
       "       'new berlinville', 'new britain', 'new britian', 'new hope',\n",
       "       'new orleans', 'new palestine', 'new port richey', 'new prt rchy',\n",
       "       'new pt richey', 'new tampa', 'new whiteland', 'newportville',\n",
       "       'newton', 'newton square', 'newtown', 'newtown sq',\n",
       "       'newtown sqaure', 'newtown square', 'newtown township', 'nixa',\n",
       "       'noblesville', 'nolensville', 'nolenville', 'normandy',\n",
       "       'norristown', 'norriton', 'norritown', 'north coventry',\n",
       "       'north coventry township', 'north redington bch',\n",
       "       'north redington beach', 'north wales', 'norwood', 'nsshville',\n",
       "       'nwales', 'oakford', 'oaklandon', 'oaks', 'oakville', 'odessa',\n",
       "       'old hickory', 'old hickory tn', 'oldsmar', 'olivette', 'oreland',\n",
       "       'overbrook', 'overland', 'ozona', 'pagedale', 'palm harbor',\n",
       "       'palm harbor fl', 'palmetto', 'paoli', 'parker ford', 'parkside',\n",
       "       'pasadena', 'pasco', 'passagrille', 'passagrille beach',\n",
       "       'peerless park', 'pegram', 'penllyn', 'penn valley', 'penndel',\n",
       "       'pennsburg', 'pennsylvania', 'perkasie', 'perkiomenville',\n",
       "       'petersburg', 'phila', 'philadelphia',\n",
       "       'philadelphia northeast philly', 'philadelphia pa',\n",
       "       'philadelphila', 'philadephia', 'philiadelphia', 'philiidelphia',\n",
       "       'philly', 'phoenixville', 'phonixville', 'pilgrim gardens',\n",
       "       'pine forge', 'pinecrest west park', 'pinellas', 'pinellas park',\n",
       "       'pineville', 'pipersville', 'plainfield', 'plainfiled',\n",
       "       'plant city', 'pleasant township', 'pleasant view',\n",
       "       'plumsteadville', 'plymouth meeting', 'plymouth mtng',\n",
       "       'plymouth township', 'port richey', 'pottsgrove', 'pottstown',\n",
       "       'primos', 'primossecane', 'prospect park', 'quakertown', 'radnor',\n",
       "       'radnor township', 'red hill', 'redingtn shor', 'redingtn shores',\n",
       "       'redington beach', 'redington shore', 'redington shores',\n",
       "       'richboro', 'richmond heights', 'ridley', 'ridley park',\n",
       "       'ridley township', 'river view', 'riverview', 'riverview fl',\n",
       "       'rock hill', 'rockledge', 'rose valley', 'rosemont', 'roslyn',\n",
       "       'roxborough', 'royersford', 'royford', 'rural hill', 'rushland',\n",
       "       'ruskin', 'rutledge', 's pasadena', 'safety  harbor',\n",
       "       'safety harbor', 'safety hatbor', 'saint ann', 'saint charles',\n",
       "       'saint davids', 'saint john', 'saint leo', 'saint louis',\n",
       "       'saint louis ap', 'saint pete beach', 'saint peters',\n",
       "       'saint petersburg', 'saint petersburg beach', 'saintt petersburg',\n",
       "       'saint\\xa0louis', 'san antonio', 'sanatoga', 'sappington',\n",
       "       'sarasota', 'sassamansville', 'schwenksville', 'secane', 'seffner',\n",
       "       'sellersville', 'seminole', 'shady hills', 'sharon hill',\n",
       "       'shrewsbury', 'silverdale', 'skippack', 'skippack village',\n",
       "       'smyrna', 'solebury', 'souderton', 'south county', 'south madison',\n",
       "       'south pasadena', 'south tampa', 'southampton', 'southeastern',\n",
       "       'southhampton', 'southport', 'southwest philadelphia',\n",
       "       'southwest tampa', 'spasadena', 'speedway', 'spring city',\n",
       "       'spring hill', 'spring house', 'springfield', 'springhill',\n",
       "       'st  charles', 'st  louis', 'st ann', 'st charles', 'st davids',\n",
       "       'st leo', 'st loius', 'st louis', 'st louis county',\n",
       "       'st louis downtown', 'st pete', 'st pete beach', 'st peters',\n",
       "       'st petersberg', 'st petersburg', 'st petersurg', 'stann',\n",
       "       'stcharles', 'ste c', 'stlouis', 'stowe', 'stpete beach',\n",
       "       'stpetersburg', 'strafford', 'stroudsburg', 'sullivan',\n",
       "       'sumneytown', 'sun city', 'sun city center', 'sunset hills',\n",
       "       'swarthmore', 'swedeland', 'tampa', 'tampa  north', 'tampa  south',\n",
       "       'tampa ap', 'tampa bay', 'tampa florida', 'tampa palms',\n",
       "       'tampa terrace', 'tampafl', 'tampla', 'tarpon springs', 'telford',\n",
       "       'temple terr', 'temple terrace', 'tennesse', 'terra ceia',\n",
       "       'thonosassa', 'thonotosassa', 'thorndale', 'thornton',\n",
       "       'tierra verde', 'tierre verde', 'tinicum', 'tinicum township',\n",
       "       'toughkenamon', 'town  country', 'town  county',\n",
       "       'town and country', 'town n country', 'trainer', 'trappe',\n",
       "       'treasure is', 'treasure island', 'trevose', 'trinity', 'trooper',\n",
       "       'tullytown', 'twin oaks', 'twn n cntry', 'tylersport',\n",
       "       'unionville', 'university city', 'university park', 'upland',\n",
       "       'upper chichester', 'upper darby', 'upper darby pa',\n",
       "       'upper gwynedd', 'upper merion township', 'upper moreland',\n",
       "       'upper pottsgrove', 'upper southampton',\n",
       "       'upper southampton township', 'uppr blck edy', 'valley forge',\n",
       "       'valley park', 'valrico', 'view', 'villanova', 'virtual', 'wales',\n",
       "       'wallingford', 'wanamaker', 'warminster', 'warrington',\n",
       "       'warrington township', 'warson woods', 'warwick', 'washington',\n",
       "       'washington crossing', 'wayne', 'wayneradnor', 'wchester',\n",
       "       'webster groves', 'webster grvs', 'wesley ccapel', 'wesley chapel',\n",
       "       'wesley chapel  fl', 'west alton', 'west bradford township',\n",
       "       'west chester', 'west chester pa', 'west conshohocken',\n",
       "       'west nashville', 'west norriton', 'west philadelphia',\n",
       "       'west point', 'west rockhill', 'westchase', 'westfield',\n",
       "       'westtown', 'white house', 'whitehouse', 'whiteland',\n",
       "       'whites creek', 'whitestown', 'williamsport', 'willow grove',\n",
       "       'wilmington', 'wimauma', 'winchester', 'woodbourne', 'woodlyn',\n",
       "       'woodson terrace', 'worcester', 'wrightstown', 'wycombe',\n",
       "       'wyncote', 'wyndlake condominium', 'wyndmoor', 'wynnewood',\n",
       "       'yardley', 'yardley boro', 'ybor city', 'yeadon', 'zephryhills',\n",
       "       'zephyrhills', 'zieglersville', 'zieglerville', 'zionsville',\n",
       "       'zionsville in'], dtype=object)"
      ]
     },
     "execution_count": 30,
     "metadata": {},
     "output_type": "execute_result"
    }
   ],
   "source": [
    "right_city = unique_city(right)\n",
    "right_city"
   ]
  },
  {
   "cell_type": "markdown",
   "id": "12159d95",
   "metadata": {},
   "source": [
    "#### There are too many non-standardized city entry with unknown reason, thus we only replace 'st' to 'saint'"
   ]
  },
  {
   "cell_type": "code",
   "execution_count": 31,
   "id": "beff6dcb",
   "metadata": {},
   "outputs": [
    {
     "data": {
      "text/plain": [
       "array(['st petersburg', 'st louis', 'st pete beach', 'st charles',\n",
       "       'st davids', 'st louis downtown', 'st ann', 'st pete', 'st  louis',\n",
       "       'st petersberg', 'st loius', 'st peters', 'st louis county',\n",
       "       'st petersurg', 'st leo', 'st  charles'], dtype=object)"
      ]
     },
     "execution_count": 31,
     "metadata": {},
     "output_type": "execute_result"
    }
   ],
   "source": [
    "# check cities contain 'st'\n",
    "right[right['city'].str.contains(r'\\bst\\b') == True]['city'].unique()"
   ]
  },
  {
   "cell_type": "code",
   "execution_count": 32,
   "id": "a226c2d6",
   "metadata": {},
   "outputs": [],
   "source": [
    "# replace 'st' with 'saint'\n",
    "right['city'] = right['city'].replace( r'\\bst\\b', 'saint', regex=True)"
   ]
  },
  {
   "cell_type": "markdown",
   "id": "6166c3ed",
   "metadata": {},
   "source": [
    "### Check Dataset after preprocessing"
   ]
  },
  {
   "cell_type": "code",
   "execution_count": 33,
   "id": "72deafae",
   "metadata": {},
   "outputs": [
    {
     "data": {
      "text/html": [
       "<div>\n",
       "<style scoped>\n",
       "    .dataframe tbody tr th:only-of-type {\n",
       "        vertical-align: middle;\n",
       "    }\n",
       "\n",
       "    .dataframe tbody tr th {\n",
       "        vertical-align: top;\n",
       "    }\n",
       "\n",
       "    .dataframe thead th {\n",
       "        text-align: right;\n",
       "    }\n",
       "</style>\n",
       "<table border=\"1\" class=\"dataframe\">\n",
       "  <thead>\n",
       "    <tr style=\"text-align: right;\">\n",
       "      <th></th>\n",
       "      <th>business_id</th>\n",
       "      <th>name</th>\n",
       "      <th>address</th>\n",
       "      <th>city</th>\n",
       "      <th>state</th>\n",
       "      <th>zip_code</th>\n",
       "    </tr>\n",
       "  </thead>\n",
       "  <tbody>\n",
       "    <tr>\n",
       "      <th>0</th>\n",
       "      <td>1</td>\n",
       "      <td>sourini painting inc</td>\n",
       "      <td>12800 44th street north</td>\n",
       "      <td>clearwater</td>\n",
       "      <td>FL</td>\n",
       "      <td>33762</td>\n",
       "    </tr>\n",
       "    <tr>\n",
       "      <th>1</th>\n",
       "      <td>2</td>\n",
       "      <td>wolff dolla bill llc</td>\n",
       "      <td>1905 east 19th avenue</td>\n",
       "      <td>tampa</td>\n",
       "      <td>FL</td>\n",
       "      <td>33605</td>\n",
       "    </tr>\n",
       "    <tr>\n",
       "      <th>2</th>\n",
       "      <td>3</td>\n",
       "      <td>comprehensive surgery center llc</td>\n",
       "      <td>1988 gulf to bay boulevard suite 1</td>\n",
       "      <td>clearwater</td>\n",
       "      <td>FL</td>\n",
       "      <td>33765</td>\n",
       "    </tr>\n",
       "    <tr>\n",
       "      <th>3</th>\n",
       "      <td>4</td>\n",
       "      <td>frank  adam apparel llc</td>\n",
       "      <td>13640 wright circle</td>\n",
       "      <td>tampa</td>\n",
       "      <td>FL</td>\n",
       "      <td>33626</td>\n",
       "    </tr>\n",
       "    <tr>\n",
       "      <th>4</th>\n",
       "      <td>5</td>\n",
       "      <td>moreno plus transport inc</td>\n",
       "      <td>8608 huron court unite 58</td>\n",
       "      <td>tampa</td>\n",
       "      <td>FL</td>\n",
       "      <td>33614</td>\n",
       "    </tr>\n",
       "  </tbody>\n",
       "</table>\n",
       "</div>"
      ],
      "text/plain": [
       "   business_id                              name  \\\n",
       "0            1              sourini painting inc   \n",
       "1            2              wolff dolla bill llc   \n",
       "2            3  comprehensive surgery center llc   \n",
       "3            4           frank  adam apparel llc   \n",
       "4            5         moreno plus transport inc   \n",
       "\n",
       "                              address        city state zip_code  \n",
       "0             12800 44th street north  clearwater    FL    33762  \n",
       "1               1905 east 19th avenue       tampa    FL    33605  \n",
       "2  1988 gulf to bay boulevard suite 1  clearwater    FL    33765  \n",
       "3                 13640 wright circle       tampa    FL    33626  \n",
       "4           8608 huron court unite 58       tampa    FL    33614  "
      ]
     },
     "execution_count": 33,
     "metadata": {},
     "output_type": "execute_result"
    }
   ],
   "source": [
    "left.head()"
   ]
  },
  {
   "cell_type": "code",
   "execution_count": 34,
   "id": "f574f2a2",
   "metadata": {},
   "outputs": [
    {
     "data": {
      "text/html": [
       "<div>\n",
       "<style scoped>\n",
       "    .dataframe tbody tr th:only-of-type {\n",
       "        vertical-align: middle;\n",
       "    }\n",
       "\n",
       "    .dataframe tbody tr th {\n",
       "        vertical-align: top;\n",
       "    }\n",
       "\n",
       "    .dataframe thead th {\n",
       "        text-align: right;\n",
       "    }\n",
       "</style>\n",
       "<table border=\"1\" class=\"dataframe\">\n",
       "  <thead>\n",
       "    <tr style=\"text-align: right;\">\n",
       "      <th></th>\n",
       "      <th>entity_id</th>\n",
       "      <th>name</th>\n",
       "      <th>address</th>\n",
       "      <th>city</th>\n",
       "      <th>state</th>\n",
       "      <th>zip_code</th>\n",
       "    </tr>\n",
       "  </thead>\n",
       "  <tbody>\n",
       "    <tr>\n",
       "      <th>0</th>\n",
       "      <td>1</td>\n",
       "      <td>the ups store</td>\n",
       "      <td>87 grasso plaza shopping center</td>\n",
       "      <td>affton</td>\n",
       "      <td>MO</td>\n",
       "      <td>63123</td>\n",
       "    </tr>\n",
       "    <tr>\n",
       "      <th>1</th>\n",
       "      <td>2</td>\n",
       "      <td>st honore pastries</td>\n",
       "      <td>935 race street</td>\n",
       "      <td>philadelphia</td>\n",
       "      <td>PA</td>\n",
       "      <td>19107</td>\n",
       "    </tr>\n",
       "    <tr>\n",
       "      <th>2</th>\n",
       "      <td>3</td>\n",
       "      <td>perkiomen valley brewery</td>\n",
       "      <td>101 walnut street</td>\n",
       "      <td>green lane</td>\n",
       "      <td>PA</td>\n",
       "      <td>18054</td>\n",
       "    </tr>\n",
       "    <tr>\n",
       "      <th>3</th>\n",
       "      <td>4</td>\n",
       "      <td>sonic drivein</td>\n",
       "      <td>615 south main street</td>\n",
       "      <td>ashland city</td>\n",
       "      <td>TN</td>\n",
       "      <td>37015</td>\n",
       "    </tr>\n",
       "    <tr>\n",
       "      <th>4</th>\n",
       "      <td>5</td>\n",
       "      <td>famous footwear</td>\n",
       "      <td>8522 eager road dierbergs brentwood point</td>\n",
       "      <td>brentwood</td>\n",
       "      <td>MO</td>\n",
       "      <td>63144</td>\n",
       "    </tr>\n",
       "  </tbody>\n",
       "</table>\n",
       "</div>"
      ],
      "text/plain": [
       "   entity_id                      name  \\\n",
       "0          1             the ups store   \n",
       "1          2        st honore pastries   \n",
       "2          3  perkiomen valley brewery   \n",
       "3          4             sonic drivein   \n",
       "4          5           famous footwear   \n",
       "\n",
       "                                     address          city state zip_code  \n",
       "0            87 grasso plaza shopping center        affton    MO    63123  \n",
       "1                            935 race street  philadelphia    PA    19107  \n",
       "2                          101 walnut street    green lane    PA    18054  \n",
       "3                      615 south main street  ashland city    TN    37015  \n",
       "4  8522 eager road dierbergs brentwood point     brentwood    MO    63144  "
      ]
     },
     "execution_count": 34,
     "metadata": {},
     "output_type": "execute_result"
    }
   ],
   "source": [
    "right.head()"
   ]
  },
  {
   "cell_type": "markdown",
   "id": "3118a323",
   "metadata": {},
   "source": [
    "### Check null value in 'address' and drop these rows"
   ]
  },
  {
   "cell_type": "code",
   "execution_count": 35,
   "id": "8aa4ead4",
   "metadata": {},
   "outputs": [
    {
     "data": {
      "text/plain": [
       "0"
      ]
     },
     "execution_count": 35,
     "metadata": {},
     "output_type": "execute_result"
    }
   ],
   "source": [
    "sum_null(left,'address')"
   ]
  },
  {
   "cell_type": "code",
   "execution_count": 36,
   "id": "741335af",
   "metadata": {},
   "outputs": [
    {
     "data": {
      "text/plain": [
       "2798"
      ]
     },
     "execution_count": 36,
     "metadata": {},
     "output_type": "execute_result"
    }
   ],
   "source": [
    "sum_null(right,'address')"
   ]
  },
  {
   "cell_type": "code",
   "execution_count": 37,
   "id": "fb70e84f",
   "metadata": {},
   "outputs": [],
   "source": [
    "drop_null(right, 'address')"
   ]
  },
  {
   "cell_type": "code",
   "execution_count": 38,
   "id": "fa31d855",
   "metadata": {},
   "outputs": [
    {
     "data": {
      "text/plain": [
       "(91787, 6)"
      ]
     },
     "execution_count": 38,
     "metadata": {},
     "output_type": "execute_result"
    }
   ],
   "source": [
    "right.shape"
   ]
  },
  {
   "cell_type": "markdown",
   "id": "a68b88f8",
   "metadata": {},
   "source": [
    "## Fuzzy Matching"
   ]
  },
  {
   "cell_type": "markdown",
   "id": "caea52ee",
   "metadata": {},
   "source": [
    "### Divide left and right datasets by state"
   ]
  },
  {
   "cell_type": "code",
   "execution_count": 39,
   "id": "02182780",
   "metadata": {},
   "outputs": [
    {
     "data": {
      "text/plain": [
       "PA    32335\n",
       "FL    28373\n",
       "MO    15613\n",
       "TN    11613\n",
       "IN    10575\n",
       "Name: state, dtype: int64"
      ]
     },
     "execution_count": 39,
     "metadata": {},
     "output_type": "execute_result"
    }
   ],
   "source": [
    "left['state'].value_counts()"
   ]
  },
  {
   "cell_type": "code",
   "execution_count": 40,
   "id": "c3c2483e",
   "metadata": {},
   "outputs": [
    {
     "data": {
      "text/plain": [
       "PA    32994\n",
       "FL    25457\n",
       "TN    11671\n",
       "IN    10991\n",
       "MO    10674\n",
       "Name: state, dtype: int64"
      ]
     },
     "execution_count": 40,
     "metadata": {},
     "output_type": "execute_result"
    }
   ],
   "source": [
    "right['state'].value_counts()"
   ]
  },
  {
   "cell_type": "markdown",
   "id": "1dd53283",
   "metadata": {},
   "source": [
    "### Use TN as an example"
   ]
  },
  {
   "cell_type": "code",
   "execution_count": 41,
   "id": "f5a60aaf",
   "metadata": {},
   "outputs": [],
   "source": [
    "left_TN = state(left, 'TN')\n",
    "right_TN = state(right, 'TN')"
   ]
  },
  {
   "cell_type": "code",
   "execution_count": 42,
   "id": "66692809",
   "metadata": {},
   "outputs": [
    {
     "data": {
      "text/plain": [
       "37203    1339\n",
       "37064    1217\n",
       "37211    1078\n",
       "37067     937\n",
       "37204     631\n",
       "Name: zip_code, dtype: int64"
      ]
     },
     "execution_count": 42,
     "metadata": {},
     "output_type": "execute_result"
    }
   ],
   "source": [
    "left_TN['zip_code'].value_counts().head()"
   ]
  },
  {
   "cell_type": "code",
   "execution_count": 44,
   "id": "8381540d",
   "metadata": {},
   "outputs": [
    {
     "data": {
      "text/plain": [
       "37203    1145\n",
       "37067     730\n",
       "37211     650\n",
       "37027     639\n",
       "37214     602\n",
       "Name: zip_code, dtype: int64"
      ]
     },
     "execution_count": 44,
     "metadata": {},
     "output_type": "execute_result"
    }
   ],
   "source": [
    "right_TN['zip_code'].value_counts().head()"
   ]
  },
  {
   "cell_type": "markdown",
   "id": "c5c3e205",
   "metadata": {},
   "source": [
    "### Match within each state, then match within each zip code"
   ]
  },
  {
   "cell_type": "markdown",
   "id": "cc4ed16d",
   "metadata": {},
   "source": [
    "#### Since the sizes of the datasets are very large, we will divide them into subsets in the same state and then divide each state-subset into smaller chunks with the same zip code to avoid useless matchings and to reduce execution time. Businesses not in the same state and not with the same zip code cannot be the same one."
   ]
  },
  {
   "cell_type": "markdown",
   "id": "82ebd58e",
   "metadata": {},
   "source": [
    "#### Get a dataframe containing all common zip codes in left_TN and right_TN and number of counts"
   ]
  },
  {
   "cell_type": "code",
   "execution_count": 45,
   "id": "7b5e222c",
   "metadata": {},
   "outputs": [
    {
     "data": {
      "text/html": [
       "<div>\n",
       "<style scoped>\n",
       "    .dataframe tbody tr th:only-of-type {\n",
       "        vertical-align: middle;\n",
       "    }\n",
       "\n",
       "    .dataframe tbody tr th {\n",
       "        vertical-align: top;\n",
       "    }\n",
       "\n",
       "    .dataframe thead th {\n",
       "        text-align: right;\n",
       "    }\n",
       "</style>\n",
       "<table border=\"1\" class=\"dataframe\">\n",
       "  <thead>\n",
       "    <tr style=\"text-align: right;\">\n",
       "      <th></th>\n",
       "      <th>zip_code</th>\n",
       "      <th>count_x</th>\n",
       "      <th>count_y</th>\n",
       "    </tr>\n",
       "  </thead>\n",
       "  <tbody>\n",
       "    <tr>\n",
       "      <th>0</th>\n",
       "      <td>37203</td>\n",
       "      <td>1339</td>\n",
       "      <td>1145</td>\n",
       "    </tr>\n",
       "    <tr>\n",
       "      <th>1</th>\n",
       "      <td>37064</td>\n",
       "      <td>1217</td>\n",
       "      <td>580</td>\n",
       "    </tr>\n",
       "    <tr>\n",
       "      <th>2</th>\n",
       "      <td>37211</td>\n",
       "      <td>1078</td>\n",
       "      <td>650</td>\n",
       "    </tr>\n",
       "    <tr>\n",
       "      <th>3</th>\n",
       "      <td>37067</td>\n",
       "      <td>937</td>\n",
       "      <td>730</td>\n",
       "    </tr>\n",
       "    <tr>\n",
       "      <th>4</th>\n",
       "      <td>37204</td>\n",
       "      <td>631</td>\n",
       "      <td>403</td>\n",
       "    </tr>\n",
       "  </tbody>\n",
       "</table>\n",
       "</div>"
      ],
      "text/plain": [
       "  zip_code  count_x  count_y\n",
       "0    37203     1339     1145\n",
       "1    37064     1217      580\n",
       "2    37211     1078      650\n",
       "3    37067      937      730\n",
       "4    37204      631      403"
      ]
     },
     "execution_count": 45,
     "metadata": {},
     "output_type": "execute_result"
    }
   ],
   "source": [
    "zip_match_TN = zip_match(left_TN, right_TN)\n",
    "zip_match_TN.head()"
   ]
  },
  {
   "cell_type": "markdown",
   "id": "01565766",
   "metadata": {},
   "source": [
    "#### TN matching results"
   ]
  },
  {
   "cell_type": "code",
   "execution_count": 153,
   "id": "6297ee66",
   "metadata": {},
   "outputs": [
    {
     "name": "stdout",
     "output_type": "stream",
     "text": [
      "     left  right  confidence_score\n",
      "0   86981  83445             0.932\n",
      "1   86982  83445             0.952\n",
      "2   86996  65304             1.000\n",
      "3   87011  20545             1.000\n",
      "4   87024   1957             1.000\n",
      "..    ...    ...               ...\n",
      "0   93250  92223             0.828\n",
      "0   92865  41863             0.912\n",
      "1   95394  93980             0.876\n",
      "0   87651  52242             0.898\n",
      "0   97815  71477             0.972\n",
      "\n",
      "[2931 rows x 3 columns]\n",
      "Execution time: 1803.80 seconds\n"
     ]
    }
   ],
   "source": [
    "start_time = time.time()\n",
    "\n",
    "find_match_byzip(zip_match_TN, left_TN, right_TN, 'matches_TN_byzip.csv')\n",
    "\n",
    "end_time = time.time()\n",
    "\n",
    "execution_time = end_time - start_time\n",
    "\n",
    "print(f\"Execution time: {execution_time:.2f} seconds\")"
   ]
  },
  {
   "cell_type": "markdown",
   "id": "fe47171d",
   "metadata": {},
   "source": [
    "### Use the same method to get matching results in each state. Each group member took care of one state. Load the five matching result files."
   ]
  },
  {
   "cell_type": "code",
   "execution_count": 46,
   "id": "bcd76b4a",
   "metadata": {},
   "outputs": [],
   "source": [
    "match_PA = pd.read_csv('matches_PA_byzip.csv')\n",
    "match_FL = pd.read_csv('matches_FL_byzip.csv')\n",
    "match_MO = pd.read_csv('matches_MO_byzip.csv')\n",
    "match_TN = pd.read_csv('matches_TN_byzip.csv')\n",
    "match_IN = pd.read_csv('matches_IN_byzip.csv')"
   ]
  },
  {
   "cell_type": "markdown",
   "id": "decf01e7",
   "metadata": {},
   "source": [
    "### Concatenate five result files to one dataframe"
   ]
  },
  {
   "cell_type": "code",
   "execution_count": 47,
   "id": "a557f355",
   "metadata": {},
   "outputs": [],
   "source": [
    "all_match = pd.concat([match_PA, match_FL, match_MO, match_TN, match_IN])"
   ]
  },
  {
   "cell_type": "markdown",
   "id": "b4b76f29",
   "metadata": {},
   "source": [
    "### Examine all matching results"
   ]
  },
  {
   "cell_type": "code",
   "execution_count": 48,
   "id": "53525715",
   "metadata": {},
   "outputs": [
    {
     "data": {
      "text/plain": [
       "(26265, 3)"
      ]
     },
     "execution_count": 48,
     "metadata": {},
     "output_type": "execute_result"
    }
   ],
   "source": [
    "all_match.shape"
   ]
  },
  {
   "cell_type": "markdown",
   "id": "857c8784",
   "metadata": {},
   "source": [
    "### Number of exact matching"
   ]
  },
  {
   "cell_type": "code",
   "execution_count": 49,
   "id": "6cdd315f",
   "metadata": {},
   "outputs": [
    {
     "data": {
      "text/plain": [
       "6591"
      ]
     },
     "execution_count": 49,
     "metadata": {},
     "output_type": "execute_result"
    }
   ],
   "source": [
    "len(all_match[all_match['confidence_score'] == 1.0])"
   ]
  },
  {
   "cell_type": "markdown",
   "id": "9c63d388",
   "metadata": {},
   "source": [
    "### Sort the results by confidence score by descending order"
   ]
  },
  {
   "cell_type": "code",
   "execution_count": 50,
   "id": "5f40ac7d",
   "metadata": {},
   "outputs": [],
   "source": [
    "match_sorted = all_match.sort_values(by=['confidence_score'], ascending=False)"
   ]
  },
  {
   "cell_type": "markdown",
   "id": "ea454493",
   "metadata": {},
   "source": [
    "### Visualize matching results"
   ]
  },
  {
   "cell_type": "code",
   "execution_count": 51,
   "id": "0e3daeac",
   "metadata": {},
   "outputs": [
    {
     "data": {
      "image/png": "[encoded data removed]",
      "text/plain": [
       "<Figure size 640x480 with 1 Axes>"
      ]
     },
     "metadata": {},
     "output_type": "display_data"
    }
   ],
   "source": [
    "visualize_match(match_sorted)"
   ]
  },
  {
   "cell_type": "markdown",
   "id": "f2046355",
   "metadata": {},
   "source": [
    "### Review the results and check matching quality"
   ]
  },
  {
   "cell_type": "code",
   "execution_count": 52,
   "id": "56ee345d",
   "metadata": {},
   "outputs": [
    {
     "data": {
      "text/html": [
       "<div>\n",
       "<style scoped>\n",
       "    .dataframe tbody tr th:only-of-type {\n",
       "        vertical-align: middle;\n",
       "    }\n",
       "\n",
       "    .dataframe tbody tr th {\n",
       "        vertical-align: top;\n",
       "    }\n",
       "\n",
       "    .dataframe thead th {\n",
       "        text-align: right;\n",
       "    }\n",
       "</style>\n",
       "<table border=\"1\" class=\"dataframe\">\n",
       "  <thead>\n",
       "    <tr style=\"text-align: right;\">\n",
       "      <th></th>\n",
       "      <th>left</th>\n",
       "      <th>right</th>\n",
       "      <th>confidence_score</th>\n",
       "    </tr>\n",
       "  </thead>\n",
       "  <tbody>\n",
       "    <tr>\n",
       "      <th>5370</th>\n",
       "      <td>86451</td>\n",
       "      <td>81764</td>\n",
       "      <td>0.900</td>\n",
       "    </tr>\n",
       "    <tr>\n",
       "      <th>3747</th>\n",
       "      <td>3793</td>\n",
       "      <td>29849</td>\n",
       "      <td>0.900</td>\n",
       "    </tr>\n",
       "    <tr>\n",
       "      <th>1724</th>\n",
       "      <td>18179</td>\n",
       "      <td>93459</td>\n",
       "      <td>0.900</td>\n",
       "    </tr>\n",
       "    <tr>\n",
       "      <th>556</th>\n",
       "      <td>87527</td>\n",
       "      <td>21337</td>\n",
       "      <td>0.900</td>\n",
       "    </tr>\n",
       "    <tr>\n",
       "      <th>774</th>\n",
       "      <td>32232</td>\n",
       "      <td>60962</td>\n",
       "      <td>0.900</td>\n",
       "    </tr>\n",
       "    <tr>\n",
       "      <th>6526</th>\n",
       "      <td>66615</td>\n",
       "      <td>69368</td>\n",
       "      <td>0.900</td>\n",
       "    </tr>\n",
       "    <tr>\n",
       "      <th>4949</th>\n",
       "      <td>57231</td>\n",
       "      <td>19754</td>\n",
       "      <td>0.900</td>\n",
       "    </tr>\n",
       "    <tr>\n",
       "      <th>3177</th>\n",
       "      <td>60841</td>\n",
       "      <td>2050</td>\n",
       "      <td>0.900</td>\n",
       "    </tr>\n",
       "    <tr>\n",
       "      <th>3168</th>\n",
       "      <td>60020</td>\n",
       "      <td>64165</td>\n",
       "      <td>0.900</td>\n",
       "    </tr>\n",
       "    <tr>\n",
       "      <th>282</th>\n",
       "      <td>43066</td>\n",
       "      <td>58150</td>\n",
       "      <td>0.899</td>\n",
       "    </tr>\n",
       "  </tbody>\n",
       "</table>\n",
       "</div>"
      ],
      "text/plain": [
       "       left  right  confidence_score\n",
       "5370  86451  81764             0.900\n",
       "3747   3793  29849             0.900\n",
       "1724  18179  93459             0.900\n",
       "556   87527  21337             0.900\n",
       "774   32232  60962             0.900\n",
       "6526  66615  69368             0.900\n",
       "4949  57231  19754             0.900\n",
       "3177  60841   2050             0.900\n",
       "3168  60020  64165             0.900\n",
       "282   43066  58150             0.899"
      ]
     },
     "execution_count": 52,
     "metadata": {},
     "output_type": "execute_result"
    }
   ],
   "source": [
    "match_sorted[10900:10910]"
   ]
  },
  {
   "cell_type": "code",
   "execution_count": 53,
   "id": "e2786b7b",
   "metadata": {},
   "outputs": [
    {
     "data": {
      "text/html": [
       "<div>\n",
       "<style scoped>\n",
       "    .dataframe tbody tr th:only-of-type {\n",
       "        vertical-align: middle;\n",
       "    }\n",
       "\n",
       "    .dataframe tbody tr th {\n",
       "        vertical-align: top;\n",
       "    }\n",
       "\n",
       "    .dataframe thead th {\n",
       "        text-align: right;\n",
       "    }\n",
       "</style>\n",
       "<table border=\"1\" class=\"dataframe\">\n",
       "  <thead>\n",
       "    <tr style=\"text-align: right;\">\n",
       "      <th></th>\n",
       "      <th>business_id</th>\n",
       "      <th>name</th>\n",
       "      <th>address</th>\n",
       "      <th>city</th>\n",
       "      <th>state</th>\n",
       "      <th>zip_code</th>\n",
       "    </tr>\n",
       "  </thead>\n",
       "  <tbody>\n",
       "    <tr>\n",
       "      <th>43065</th>\n",
       "      <td>43066</td>\n",
       "      <td>allstar moving llc</td>\n",
       "      <td>333 leffingwell avenue suite 127</td>\n",
       "      <td>saint louis</td>\n",
       "      <td>MO</td>\n",
       "      <td>63122</td>\n",
       "    </tr>\n",
       "  </tbody>\n",
       "</table>\n",
       "</div>"
      ],
      "text/plain": [
       "       business_id                name                           address  \\\n",
       "43065        43066  allstar moving llc  333 leffingwell avenue suite 127   \n",
       "\n",
       "              city state zip_code  \n",
       "43065  saint louis    MO    63122  "
      ]
     },
     "execution_count": 53,
     "metadata": {},
     "output_type": "execute_result"
    }
   ],
   "source": [
    "left[left['business_id'] == 43066]"
   ]
  },
  {
   "cell_type": "code",
   "execution_count": 54,
   "id": "465cfae9",
   "metadata": {},
   "outputs": [
    {
     "data": {
      "text/html": [
       "<div>\n",
       "<style scoped>\n",
       "    .dataframe tbody tr th:only-of-type {\n",
       "        vertical-align: middle;\n",
       "    }\n",
       "\n",
       "    .dataframe tbody tr th {\n",
       "        vertical-align: top;\n",
       "    }\n",
       "\n",
       "    .dataframe thead th {\n",
       "        text-align: right;\n",
       "    }\n",
       "</style>\n",
       "<table border=\"1\" class=\"dataframe\">\n",
       "  <thead>\n",
       "    <tr style=\"text-align: right;\">\n",
       "      <th></th>\n",
       "      <th>entity_id</th>\n",
       "      <th>name</th>\n",
       "      <th>address</th>\n",
       "      <th>city</th>\n",
       "      <th>state</th>\n",
       "      <th>zip_code</th>\n",
       "    </tr>\n",
       "  </thead>\n",
       "  <tbody>\n",
       "    <tr>\n",
       "      <th>58149</th>\n",
       "      <td>58150</td>\n",
       "      <td>all star moving llc</td>\n",
       "      <td>333 leffingwell avenue suite 127</td>\n",
       "      <td>kirkwood</td>\n",
       "      <td>MO</td>\n",
       "      <td>63122</td>\n",
       "    </tr>\n",
       "  </tbody>\n",
       "</table>\n",
       "</div>"
      ],
      "text/plain": [
       "       entity_id                 name                           address  \\\n",
       "58149      58150  all star moving llc  333 leffingwell avenue suite 127   \n",
       "\n",
       "           city state zip_code  \n",
       "58149  kirkwood    MO    63122  "
      ]
     },
     "execution_count": 54,
     "metadata": {},
     "output_type": "execute_result"
    }
   ],
   "source": [
    "right[right['entity_id'] == 58150]"
   ]
  },
  {
   "cell_type": "markdown",
   "id": "4956cc81",
   "metadata": {},
   "source": [
    "### Choose confidence score = 0.90 as a threshold for acceptable matchings"
   ]
  },
  {
   "cell_type": "code",
   "execution_count": 55,
   "id": "98775145",
   "metadata": {},
   "outputs": [],
   "source": [
    "match_gt90 = match_sorted[match_sorted['confidence_score'] > 0.90]"
   ]
  },
  {
   "cell_type": "code",
   "execution_count": 56,
   "id": "241b39d3",
   "metadata": {},
   "outputs": [
    {
     "data": {
      "text/plain": [
       "(10692, 3)"
      ]
     },
     "execution_count": 56,
     "metadata": {},
     "output_type": "execute_result"
    }
   ],
   "source": [
    "match_gt90.shape"
   ]
  },
  {
   "cell_type": "code",
   "execution_count": 57,
   "id": "612e3c30",
   "metadata": {},
   "outputs": [],
   "source": [
    "match_gt90.to_csv('match_results.csv', index=False)"
   ]
  },
  {
   "cell_type": "code",
   "execution_count": null,
   "id": "524da7bf",
   "metadata": {},
   "outputs": [],
   "source": []
  }
 ],
 "metadata": {
  "kernelspec": {
   "display_name": "Python 3 (ipykernel)",
   "language": "python",
   "name": "python3"
  },
  "language_info": {
   "codemirror_mode": {
    "name": "ipython",
    "version": 3
   },
   "file_extension": ".py",
   "mimetype": "text/x-python",
   "name": "python",
   "nbconvert_exporter": "python",
   "pygments_lexer": "ipython3",
   "version": "3.8.16"
  }
 },
 "nbformat": 4,
 "nbformat_minor": 5
}
